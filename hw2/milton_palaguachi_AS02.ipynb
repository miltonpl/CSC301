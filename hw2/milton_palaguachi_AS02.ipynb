{
 "cells": [
  {
   "cell_type": "markdown",
   "metadata": {},
   "source": [
    "\n",
    "# Assignment 2\n",
    "<p>Milton Palaguachi<br />CSC 30100 Scientific Programming<br />CCNY<br />Spring 2019</p>\n",
    "\n",
    "<p>&nbsp;</p>\n",
    "\n",
    "## Naive Summation and Compensated Summation\n",
    "The calculation will be done for N = 10^6, 10^7, 10^8, and 10^9\n"
   ]
  },
  {
   "cell_type": "markdown",
   "metadata": {},
   "source": [
    "![title](img/exact_value.png)\n",
    "\n",
    "\n"
   ]
  },
  {
   "cell_type": "code",
   "execution_count": 4,
   "metadata": {},
   "outputs": [],
   "source": [
    "%matplotlib inline"
   ]
  },
  {
   "cell_type": "code",
   "execution_count": 5,
   "metadata": {},
   "outputs": [],
   "source": [
    "#math libray import to use pi=3.1415....\n",
    "import math\n",
    "import time\n",
    "import matplotlib.pyplot as plt"
   ]
  },
  {
   "cell_type": "markdown",
   "metadata": {},
   "source": [
    "### Naive Summation Algorithm\n",
    "<p>Receives an input n, where n the number of iteration through the loop<br />Note that &nbsp;<em>pi</em>&nbsp;is global variable <br />The function naive_sum() will return the summation of the naive computation</p>"
   ]
  },
  {
   "cell_type": "code",
   "execution_count": 6,
   "metadata": {},
   "outputs": [],
   "source": [
    "def naive_sum(n):\n",
    "    s = 0\n",
    "    for i in range(0,n):\n",
    "        s += pi\n",
    "    return s"
   ]
  },
  {
   "cell_type": "markdown",
   "metadata": {},
   "source": [
    "### Compensated Algorithm\n",
    "<p>The same aprouch is done to the following function.<br />Receives an input n, where n the number of iteration through the loop<br />Note that&nbsp;<em>pi</em>&nbsp;is global variable<br />The function copensated_sum() will return the summation of the compensated computation</p>"
   ]
  },
  {
   "cell_type": "code",
   "execution_count": 7,
   "metadata": {},
   "outputs": [],
   "source": [
    "\n",
    "def compensated_sum(n):\n",
    "    s=0\n",
    "    e=0\n",
    "    for i in range(0,n):\n",
    "        temp = s\n",
    "        y = pi + e\n",
    "        s = temp + y\n",
    "        e = (temp - s) + y\n",
    "    s+=e\n",
    "    return s"
   ]
  },
  {
   "cell_type": "markdown",
   "metadata": {},
   "source": [
    "## comp_time \n",
    "<ul>\n",
    "<li>This function calculates the time each algorithm takes to do the computation</li>\n",
    "<li>this function returns the computatial results and the time taken to do each compuation&nbsp;</li>\n",
    "<li>x_c= rusult of compasated algorithm summation</li>\n",
    "<li>x_n= result of naive algorithm sumamtion</li>\n",
    "<li>elapsed_c= elapsed time for the compensa summation&nbsp;</li>\n",
    "<li>elapsed_n = elapsed time for the naive summation</li>\n",
    "</ul>"
   ]
  },
  {
   "cell_type": "code",
   "execution_count": 8,
   "metadata": {},
   "outputs": [],
   "source": [
    "def comp_time(n):\n",
    "\n",
    "    start_c = time.time() \n",
    "    x_c = compensated_sum(n)\n",
    "    end_c = time.time() \n",
    "    elapsed_c = end_c - start_c\n",
    "\n",
    "    start_n = time.time() \n",
    "    x_n = naive_sum(n)\n",
    "    end_n= time.time() \n",
    "    elapsed_n= end_n- start_n\n",
    "\n",
    "    return x_c, x_n, elapsed_c, elapsed_n\n"
   ]
  },
  {
   "cell_type": "markdown",
   "metadata": {},
   "source": [
    "<h1>The main computation is done here</h1>\n",
    "<p>&nbsp;</p>\n",
    "<p>The summation will be perform for the values of N= 10^6, 10^7, 10^8, and 10^9. The exacta values is place in the array x_lit.</p>\n",
    "<ul>\n",
    "<li>Using a for loop, comp-time is called 4 times</li>\n",
    "<li>Four lists are created here to store the values every time comp_time is called</li>\n",
    "<li>In the naive list is the store the summation of N= 10^6, 10^7, 10^8, and 10^9.</li>\n",
    "<li>In the compensated list is store the summation of N= 10^6, 10^7, 10^8, and 10^9.</li>\n",
    "<li>In the c_time list is stored the time that is took to compute the compensated summation when N= 10^6, 10^7, 10^8, and 10^9 consecuently.</li>\n",
    "<li>In the n_time list is stored the time that is took to compute the naive summation when N= 10^6, 10^7, 10^8, and 10^9 consecuently.</li>\n",
    "</ul>"
   ]
  },
  {
   "cell_type": "code",
   "execution_count": 9,
   "metadata": {},
   "outputs": [],
   "source": [
    "\n",
    "\n",
    "\n",
    "\n",
    "pi = math.pi\n",
    "N= [1000000,10000000,100000000,1000000000]\n",
    "x_list = [1.0e6*pi, 1.0e7*pi, 1.0e8*pi, 1.0e9*pi]\n",
    "\n",
    "naive=[None]*4\n",
    "compensated=[None]*4\n",
    "c_times=[None]*4\n",
    "n_times =[None]*4\n",
    "\n",
    "for i in range(0, 4):\n",
    "    compensated[i], naive[i], c_times[i], n_times[i]= comp_time(N[i])"
   ]
  },
  {
   "cell_type": "code",
   "execution_count": 10,
   "metadata": {},
   "outputs": [
    {
     "name": "stdout",
     "output_type": "stream",
     "text": [
      "[3141592.6535849427, 31415926.543478474, 314159265.624272, 3141592632.494384]\n",
      "[3141592.653589793, 31415926.535897933, 314159265.3589793, 3141592653.589793]\n",
      "[0.12862610816955566, 1.2419452667236328, 12.592914342880249, 125.87607789039612]\n",
      "[0.058773040771484375, 0.598341703414917, 5.856259822845459, 61.52693486213684]\n"
     ]
    }
   ],
   "source": [
    "print(naive)\n",
    "print(compensated)\n",
    "print(c_times)\n",
    "print(n_times)\n"
   ]
  },
  {
   "cell_type": "code",
   "execution_count": 11,
   "metadata": {},
   "outputs": [
    {
     "data": {
      "image/png": "[encoded data removed]",
      "text/plain": [
       "<Figure size 432x288 with 1 Axes>"
      ]
     },
     "metadata": {
      "needs_background": "light"
     },
     "output_type": "display_data"
    },
    {
     "data": {
      "text/plain": [
       "<Figure size 432x288 with 0 Axes>"
      ]
     },
     "metadata": {},
     "output_type": "display_data"
    }
   ],
   "source": [
    "%matplotlib inline\n",
    "import matplotlib.pyplot as plt\n",
    "plt.figure()\n",
    "plt.plot(n_times,naive,'--',label='naive')\n",
    "plt.plot(c_times,compensated,label='compensated')\n",
    "plt.xlabel('Time(sec)')\n",
    "plt.ylabel('size(N)1x10^9')\n",
    "plt.grid()\n",
    "plt.legend()\n",
    "plt.show()\n",
    "plt.savefig('summation_vs_time')"
   ]
  },
  {
   "cell_type": "code",
   "execution_count": 12,
   "metadata": {},
   "outputs": [
    {
     "data": {
      "image/png": "[encoded data removed]",
      "text/plain": [
       "<Figure size 432x288 with 1 Axes>"
      ]
     },
     "metadata": {
      "needs_background": "light"
     },
     "output_type": "display_data"
    },
    {
     "data": {
      "text/plain": [
       "<Figure size 432x288 with 0 Axes>"
      ]
     },
     "metadata": {},
     "output_type": "display_data"
    }
   ],
   "source": [
    "plt.figure()\n",
    "plt.plot(N,naive,'--',label='naive')\n",
    "plt.plot(N,compensated,label='compensated')\n",
    "plt.plot(N,x_list,label='exact_value')\n",
    "plt.xlabel('N')\n",
    "plt.ylabel('summation')\n",
    "plt.grid()\n",
    "plt.legend()\n",
    "plt.show()\n",
    "plt.savefig('summation_vs_time')"
   ]
  },
  {
   "cell_type": "markdown",
   "metadata": {},
   "source": [
    "![title](img/exactvalue_vs_naive_compensated.png)"
   ]
  },
  {
   "cell_type": "code",
   "execution_count": 13,
   "metadata": {},
   "outputs": [],
   "source": [
    "absolute_error_naive = [None]*4\n",
    "relative_error_naive = [None]*4\n",
    "\n",
    "absolute_error_compensated = [None]*4\n",
    "relative_error_compensated = [None]*4"
   ]
  },
  {
   "cell_type": "code",
   "execution_count": 17,
   "metadata": {},
   "outputs": [],
   "source": [
    "for i in range(0,4):\n",
    "    \n",
    "    absolute_error_naive[i] =abs(naive[i] - x_list[i])\n",
    "    relative_error_naive[i] = abs(naive[i] - x_list[i])/x_list[i]\n",
    "    absolute_error_compensated[i] =abs(compensated[i] - x_list[i])\n",
    "    relative_error_compensated[i] = abs(compensated[i] - x_list[i])/x_list[i]"
   ]
  },
  {
   "cell_type": "markdown",
   "metadata": {},
   "source": []
  },
  {
   "cell_type": "markdown",
   "metadata": {},
   "source": [
    "![title](img/error.png)"
   ]
  },
  {
   "cell_type": "code",
   "execution_count": 27,
   "metadata": {},
   "outputs": [
    {
     "name": "stdout",
     "output_type": "stream",
     "text": [
      "[4.850327968597412e-06, 0.0075805410742759705, 0.2652927041053772, 21.095409393310547]\n",
      "[1.543907343638299e-12, 2.4129611665643346e-10, 8.444529044917268e-10, 6.714877362985149e-09]\n",
      "[0.0, 0.0, 0.0, 0.0]\n",
      "[0.0, 0.0, 0.0, 0.0]\n"
     ]
    }
   ],
   "source": [
    "print(absolute_error_naive)\n",
    "print(relative_error_naive)\n",
    "print(absolute_error_compensated)\n",
    "print(relative_error_compensated)"
   ]
  },
  {
   "cell_type": "markdown",
   "metadata": {},
   "source": [
    "<h1>Error Table</h1>\n",
    "<p>&nbsp;</p>\n"
   ]
  },
  {
   "cell_type": "code",
   "execution_count": 77,
   "metadata": {},
   "outputs": [
    {
     "name": "stdout",
     "output_type": "stream",
     "text": [
      "size(N)       |Naive abs()           | Naive relative          | Compensated abs() | Compensated relative \n",
      "|1000000      |4.850327968597412e-06 |1.543907343638299e-12    |0.0                |0.0|\n",
      "|10000000     |0.0075805410742759705 |2.4129611665643346e-10   |0.0                |0.0|\n",
      "|100000000    |0.2652927041053772    |8.444529044917268e-10    |0.0                |0.0|\n",
      "|1000000000   |21.095409393310547    |6.714877362985149e-09    |0.0                |0.0|\n"
     ]
    }
   ],
   "source": [
    "st= 'size(N)       |Naive abs()           | Naive relative          | Compensated abs() | Compensated relative '\n",
    "print(st)\n",
    "print('|'+str(N[0])+'      |'+str(absolute_error_naive[0])+' |'+str(relative_error_naive[0])+'    |'+str(absolute_error_compensated[0])+'                |'+str(relative_error_compensated[0])+'|')\n",
    "print('|'+str(N[1])+'     |'+str(absolute_error_naive[1])+' |'+str(relative_error_naive[1])+'   |'+str(absolute_error_compensated[1])+'                |'+str(relative_error_compensated[1])+'|')\n",
    "print('|'+str(N[2])+'    |'+str(absolute_error_naive[2])+'    |'+str(relative_error_naive[2])+'    |'+str(absolute_error_compensated[2])+'                |'+str(relative_error_compensated[2])+'|')\n",
    "print('|'+str(N[3])+'   |'+str(absolute_error_naive[3])+'    |'+str(relative_error_naive[3])+'    |'+str(absolute_error_compensated[3])+'                |'+str(relative_error_compensated[3])+'|')"
   ]
  },
  {
   "cell_type": "markdown",
   "metadata": {},
   "source": [
    "## Conclution\n",
    "<p>&nbsp;</p>\n",
    "<p style=\"line-height: 1.457148; margin-top: 0pt; margin-bottom: 0pt;\"><span style=\"font-size: 12pt; font-family: Arial; color: #000000; background-color: transparent; font-weight: 400; font-variant: normal; text-decoration: none; vertical-align: baseline; white-space: pre-wrap;\">The result have shown that the compensated algorithm has the exact result as the exact value. However the compensated algorithm takes twice as much to compute the summation of pi to the N. To conclude one can say that if we value time and the N size is small one can use the naive algorithm summation keeping in mind that there some relative error and absolute error. Meanwhile when N &gt; 1x10^8 and we want accuracy the best algorithm is compensated algorithm because has the absolute error relative error equals to zero however there is a price to pay, time. If we loop close in graph Tive vs naive and compensated summation we observe that the &nbsp;compensated time takes twice as much as the naive summation.</span></p>\n"
   ]
  },
  {
   "cell_type": "code",
   "execution_count": null,
   "metadata": {},
   "outputs": [],
   "source": []
  }
 ],
 "metadata": {
  "kernelspec": {
   "display_name": "Python 3",
   "language": "python",
   "name": "python3"
  },
  "language_info": {
   "codemirror_mode": {
    "name": "ipython",
    "version": 3
   },
   "file_extension": ".py",
   "mimetype": "text/x-python",
   "name": "python",
   "nbconvert_exporter": "python",
   "pygments_lexer": "ipython3",
   "version": "3.7.1"
  }
 },
 "nbformat": 4,
 "nbformat_minor": 2
}
