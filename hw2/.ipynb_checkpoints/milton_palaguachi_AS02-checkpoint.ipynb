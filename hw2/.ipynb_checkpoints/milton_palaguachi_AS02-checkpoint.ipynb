{
 "cells": [
  {
   "cell_type": "markdown",
   "metadata": {},
   "source": [
    "\n",
    "# Assignment 2\n",
    "<p>Milton Palaguachi<br />CSC 30100 Scientific Programming<br />CCNY<br />Spring 2019</p>\n",
    "\n",
    "<p>&nbsp;</p>\n",
    "\n",
    "## Naive Summation and Compensated Summation\n",
    "The calculation will be done for N = 10^6, 10^7, 10^8, and 10^9\n"
   ]
  },
  {
   "cell_type": "markdown",
   "metadata": {},
   "source": [
    "![title](img/exact_value.png)"
   ]
  },
  {
   "cell_type": "code",
   "execution_count": 21,
   "metadata": {},
   "outputs": [],
   "source": [
    "%matplotlib inline"
   ]
  },
  {
   "cell_type": "code",
   "execution_count": 22,
   "metadata": {},
   "outputs": [],
   "source": [
    "#math libray import to use pi=3.1415....\n",
    "import math\n",
    "import time\n",
    "import matplotlib.pyplot as plt"
   ]
  },
  {
   "cell_type": "markdown",
   "metadata": {},
   "source": [
    "### Naive Summation Algorithm\n",
    "<p>Receives an input n, where n the number of iteration through the loop<br />Note that &nbsp;<em>pi</em>&nbsp;is global variable <br />The function naive_sum() will return the summation of the naive computation</p>"
   ]
  },
  {
   "cell_type": "code",
   "execution_count": 23,
   "metadata": {},
   "outputs": [],
   "source": [
    "def naive_sum(n):\n",
    "    s = 0\n",
    "    for i in range(0,n):\n",
    "        s += pi\n",
    "    return s"
   ]
  },
  {
   "cell_type": "markdown",
   "metadata": {},
   "source": [
    "### Compensated Algorithm\n",
    "<p>The same aprouch is done to the following function.<br />Receives an input n, where n the number of iteration through the loop<br />Note that&nbsp;<em>pi</em>&nbsp;is global variable<br />The function copensated_sum() will return the summation of the compensated computation</p>"
   ]
  },
  {
   "cell_type": "code",
   "execution_count": 24,
   "metadata": {},
   "outputs": [],
   "source": [
    "\n",
    "def compensated_sum(n):\n",
    "    s=0\n",
    "    e=0\n",
    "    for i in range(0,n):\n",
    "        temp = s\n",
    "        y = pi + e\n",
    "        s = temp + y\n",
    "        e = (temp - s) + y\n",
    "    s+=e\n",
    "    return s"
   ]
  },
  {
   "cell_type": "markdown",
   "metadata": {},
   "source": [
    "## comp_time \n",
    "<ul>\n",
    "<li>This function calculates the time each algorithm takes to do the computation</li>\n",
    "<li>this function returns the computatial results and the time taken to do each compuation&nbsp;</li>\n",
    "<li>x_c= rusult of compasated algorithm summation</li>\n",
    "<li>x_n= result of naive algorithm sumamtion</li>\n",
    "<li>elapsed_c= elapsed time for the compensa summation&nbsp;</li>\n",
    "<li>elapsed_n = elapsed time for the naive summation</li>\n",
    "</ul>"
   ]
  },
  {
   "cell_type": "code",
   "execution_count": 25,
   "metadata": {},
   "outputs": [],
   "source": [
    "def comp_time(n):\n",
    "\n",
    "    start_c = time.time() \n",
    "    x_c = compensated_sum(n)\n",
    "    end_c = time.time() \n",
    "    elapsed_c = end_c - start_c\n",
    "\n",
    "    start_n = time.time() \n",
    "    x_n = naive_sum(n)\n",
    "    end_n= time.time() \n",
    "    elapsed_n= end_n- start_n\n",
    "\n",
    "    return x_c, x_n, elapsed_c, elapsed_n\n"
   ]
  },
  {
   "cell_type": "markdown",
   "metadata": {},
   "source": [
    "<h1>The main computation is done here</h1>\n",
    "<p>&nbsp;</p>\n",
    "<p>The summation will be perform for the values of N= 10^6, 10^7, 10^8, and 10^9. The exacta values is place in the array x_lit.</p>\n",
    "<ul>\n",
    "<li>Using a for loop, comp-time is called 4 times</li>\n",
    "<li>Four lists are created here to store the values every time comp_time is called</li>\n",
    "<li>In the naive list is the store the summation of N= 10^6, 10^7, 10^8, and 10^9.</li>\n",
    "<li>In the compensated list is store the summation of N= 10^6, 10^7, 10^8, and 10^9.</li>\n",
    "<li>In the c_time list is stored the time that is took to compute the compensated summation when N= 10^6, 10^7, 10^8, and 10^9 consecuently.</li>\n",
    "<li>In the n_time list is stored the time that is took to compute the naive summation when N= 10^6, 10^7, 10^8, and 10^9 consecuently.</li>\n",
    "</ul>"
   ]
  },
  {
   "cell_type": "code",
   "execution_count": 26,
   "metadata": {},
   "outputs": [],
   "source": [
    "\n",
    "\n",
    "\n",
    "\n",
    "pi = math.pi\n",
    "N= [1000000,10000000,100000000,1000000000]\n",
    "x_list = [1.0e6*pi, 1.0e7*pi, 1.0e8*pi, 1.0e9*pi]\n",
    "\n",
    "naive=[None]*4\n",
    "compensated=[None]*4\n",
    "c_times=[None]*4\n",
    "n_times =[None]*4\n",
    "\n",
    "for i in range(0, 4):\n",
    "    compensated[i], naive[i], c_times[i], n_times[i]= comp_time(N[i])"
   ]
  },
  {
   "cell_type": "code",
   "execution_count": 27,
   "metadata": {},
   "outputs": [
    {
     "name": "stdout",
     "output_type": "stream",
     "text": [
      "[3141592.6535849427, 31415926.543478474, 314159265.624272, 3141592632.494384]\n",
      "[3141592.653589793, 31415926.535897933, 314159265.3589793, 3141592653.589793]\n",
      "[0.13438701629638672, 1.2619237899780273, 13.018249988555908, 133.33475875854492]\n",
      "[0.06229591369628906, 0.6234381198883057, 6.329301834106445, 66.02519392967224]\n"
     ]
    }
   ],
   "source": [
    "print(naive)\n",
    "print(compensated)\n",
    "print(c_times)\n",
    "print(n_times)\n"
   ]
  },
  {
   "cell_type": "code",
   "execution_count": 50,
   "metadata": {},
   "outputs": [
    {
     "data": {
      "image/png": "[encoded data removed]",
      "text/plain": [
       "<Figure size 432x288 with 1 Axes>"
      ]
     },
     "metadata": {
      "needs_background": "light"
     },
     "output_type": "display_data"
    },
    {
     "data": {
      "text/plain": [
       "<Figure size 432x288 with 0 Axes>"
      ]
     },
     "metadata": {},
     "output_type": "display_data"
    }
   ],
   "source": [
    "%matplotlib inline\n",
    "import matplotlib.pyplot as plt\n",
    "plt.figure()\n",
    "plt.plot(n_times,naive,'--',label='naive')\n",
    "plt.plot(c_times,compensated,label='compensated')\n",
    "plt.xlabel('Time(sec)')\n",
    "plt.ylabel('size(N)1x10^9')\n",
    "plt.grid()\n",
    "plt.legend()\n",
    "plt.show()\n",
    "plt.savefig('summation_vs_time')"
   ]
  },
  {
   "cell_type": "code",
   "execution_count": 56,
   "metadata": {},
   "outputs": [
    {
     "data": {
      "image/png": "[encoded data removed]",
      "text/plain": [
       "<Figure size 432x288 with 1 Axes>"
      ]
     },
     "metadata": {
      "needs_background": "light"
     },
     "output_type": "display_data"
    },
    {
     "data": {
      "text/plain": [
       "<Figure size 432x288 with 0 Axes>"
      ]
     },
     "metadata": {},
     "output_type": "display_data"
    }
   ],
   "source": [
    "plt.figure()\n",
    "plt.plot(N,naive,'--',label='naive')\n",
    "plt.plot(N,compensated,label='compensated')\n",
    "plt.plot(N,x_list,label='exact_value')\n",
    "plt.xlabel('N')\n",
    "plt.ylabel('summation')\n",
    "plt.grid()\n",
    "plt.legend()\n",
    "plt.show()\n",
    "plt.savefig('summation_vs_time')"
   ]
  },
  {
   "cell_type": "markdown",
   "metadata": {},
   "source": [
    "![title](img/exactvalue_vs_naive_compensated.png)"
   ]
  },
  {
   "cell_type": "code",
   "execution_count": 31,
   "metadata": {},
   "outputs": [],
   "source": [
    "absolute_error_naive = [None]*4\n",
    "relative_error_naive = [None]*4\n",
    "\n",
    "absolute_error_compensated = [None]*4\n",
    "relative_error_compensated = [None]*4"
   ]
  },
  {
   "cell_type": "code",
   "execution_count": 32,
   "metadata": {},
   "outputs": [],
   "source": [
    "for i in range(0,4):\n",
    "    absolute_error_naive[i] =abs(naive[i] - x_list[i])\n",
    "    relative_error_naive[i] = abs(naive[i] - x_list[i])/x_list[i]\n",
    "    absolute_error_compensated[i] =abs(naive[i] - x_list[i])\n",
    "    relative_error_compensated[i] = abs(naive[i] - x_list[i])/x_list[i]"
   ]
  },
  {
   "cell_type": "markdown",
   "metadata": {},
   "source": []
  },
  {
   "cell_type": "markdown",
   "metadata": {},
   "source": [
    "![title](img/error.png)"
   ]
  },
  {
   "cell_type": "code",
   "execution_count": 33,
   "metadata": {},
   "outputs": [
    {
     "name": "stdout",
     "output_type": "stream",
     "text": [
      "[4.850327968597412e-06, 0.0075805410742759705, 0.2652927041053772, 21.095409393310547]\n",
      "[1.543907343638299e-12, 2.4129611665643346e-10, 8.444529044917268e-10, 6.714877362985149e-09]\n",
      "[4.850327968597412e-06, 0.0075805410742759705, 0.2652927041053772, 21.095409393310547]\n",
      "[1.543907343638299e-12, 2.4129611665643346e-10, 8.444529044917268e-10, 6.714877362985149e-09]\n"
     ]
    }
   ],
   "source": [
    "print(absolute_error_naive)\n",
    "print(relative_error_naive)\n",
    "print(absolute_error_compensated)\n",
    "print(relative_error_compensated)"
   ]
  },
  {
   "cell_type": "markdown",
   "metadata": {},
   "source": [
    "<h1>Error Table</h1>\n",
    "<p>&nbsp;</p>\n",
    "<table style=\"height: 108px; width: 100%; border-collapse: collapse;\" border=\"1\">\n",
    "<tbody>\n",
    "<tr style=\"height: 18px;\">\n",
    "<td style=\"width: 13.4%; height: 18px;\"><span style=\"font-size: 10pt;\">&nbsp;</span></td>\n",
    "<td style=\"width: 22.7911%; height: 18px;\"><span style=\"font-size: 10pt;\">ABS ERROR</span></td>\n",
    "<td style=\"width: 22.0751%; height: 18px;\"><span style=\"font-size: 10pt;\">&nbsp;</span></td>\n",
    "<td style=\"width: 21.2365%; height: 18px;\"><span style=\"font-size: 10pt;\">RELATIVE ERROR</span></td>\n",
    "<td style=\"width: 20.4974%; height: 18px;\"><span style=\"font-size: 10pt;\">&nbsp;</span></td>\n",
    "</tr>\n",
    "<tr style=\"height: 18px;\">\n",
    "<td style=\"width: 13.4%; height: 18px;\"><span style=\"font-size: 10pt;\">N</span></td>\n",
    "<td style=\"width: 22.7911%; height: 18px;\"><span style=\"font-size: 10pt;\">naive</span></td>\n",
    "<td style=\"width: 22.0751%; height: 18px;\"><span style=\"font-size: 10pt;\">compensated&nbsp; &nbsp;</span></td>\n",
    "<td style=\"width: 21.2365%; height: 18px;\"><span style=\"font-size: 10pt;\">naive</span></td>\n",
    "<td style=\"width: 20.4974%; height: 18px;\"><span style=\"font-size: 10pt;\">compensated</span></td>\n",
    "</tr>\n",
    "<tr style=\"height: 18px;\">\n",
    "<td style=\"width: 13.4%; height: 18px;\"><span style=\"font-size: 10pt;\">1000000</span></td>\n",
    "<td style=\"width: 22.7911%; height: 18px;\"><span style=\"font-size: 10pt; font-family: Arial; color: #000000; background-color: transparent; font-weight: 400; font-variant: normal; text-decoration: none; vertical-align: baseline; white-space: pre-wrap;\">4.850327968597412e-06</span></td>\n",
    "<td style=\"width: 22.0751%; height: 18px;\"><span style=\"font-size: 10pt; font-family: Arial; color: #000000; background-color: transparent; font-weight: 400; font-variant: normal; text-decoration: none; vertical-align: baseline; white-space: pre-wrap;\">4.850327968597412e-06</span></td>\n",
    "<td style=\"width: 21.2365%; height: 18px;\"><span style=\"font-size: 10pt; font-family: Arial; color: #000000; background-color: transparent; font-weight: 400; font-variant: normal; text-decoration: none; vertical-align: baseline; white-space: pre-wrap;\">1.543907343638299e-12</span></td>\n",
    "<td style=\"width: 20.4974%; height: 18px;\"><span style=\"font-size: 10pt; font-family: Arial; color: #000000; background-color: transparent; font-weight: 400; font-variant: normal; text-decoration: none; vertical-align: baseline; white-space: pre-wrap;\">1.543907343638299e-12</span></td>\n",
    "</tr>\n",
    "<tr style=\"height: 18px;\">\n",
    "<td style=\"width: 13.4%; height: 18px;\"><span style=\"font-size: 10pt;\">10000000</span></td>\n",
    "<td style=\"width: 22.7911%; height: 18px;\"><span style=\"font-size: 10pt; font-family: Arial; color: #000000; background-color: transparent; font-weight: 400; font-variant: normal; text-decoration: none; vertical-align: baseline; white-space: pre-wrap;\">7580.5410742759705e-06</span></td>\n",
    "<td style=\"width: 22.0751%; height: 18px;\"><span style=\"font-size: 10pt; font-family: Arial; color: #000000; background-color: transparent; font-weight: 400; font-variant: normal; text-decoration: none; vertical-align: baseline; white-space: pre-wrap;\">0.0075805410742759705</span></td>\n",
    "<td style=\"width: 21.2365%; height: 18px;\"><span style=\"font-size: 10pt; font-family: Arial; color: #000000; background-color: transparent; font-weight: 400; font-variant: normal; text-decoration: none; vertical-align: baseline; white-space: pre-wrap;\">2.4129611665643346e-10</span></td>\n",
    "<td style=\"width: 20.4974%; height: 18px;\"><span style=\"font-size: 10pt; font-family: Arial; color: #000000; background-color: transparent; font-weight: 400; font-variant: normal; text-decoration: none; vertical-align: baseline; white-space: pre-wrap;\">2.4129611665643346e-10</span></td>\n",
    "</tr>\n",
    "<tr style=\"height: 18px;\">\n",
    "<td style=\"width: 13.4%; height: 18px;\"><span style=\"font-size: 10pt;\">100000000</span></td>\n",
    "<td style=\"width: 22.7911%; height: 18px;\"><span style=\"font-size: 10pt; font-family: Arial; color: #000000; background-color: transparent; font-weight: 400; font-variant: normal; text-decoration: none; vertical-align: baseline; white-space: pre-wrap;\"> 0.2652927041053772</span></td>\n",
    "<td style=\"width: 22.0751%; height: 18px;\"><span style=\"font-size: 10pt; font-family: Arial; color: #000000; background-color: transparent; font-weight: 400; font-variant: normal; text-decoration: none; vertical-align: baseline; white-space: pre-wrap;\"> 0.2652927041053772</span></td>\n",
    "<td style=\"width: 21.2365%; height: 18px;\"><span style=\"font-size: 10pt; font-family: Arial; color: #000000; background-color: transparent; font-weight: 400; font-variant: normal; text-decoration: none; vertical-align: baseline; white-space: pre-wrap;\">8.444529044917268e-10</span></td>\n",
    "<td style=\"width: 20.4974%; height: 18px;\"><span style=\"font-size: 10pt; font-family: Arial; color: #000000; background-color: transparent; font-weight: 400; font-variant: normal; text-decoration: none; vertical-align: baseline; white-space: pre-wrap;\">8.444529044917268e-10</span></td>\n",
    "</tr>\n",
    "<tr style=\"height: 18px;\">\n",
    "<td style=\"width: 13.4%; height: 18px;\"><span style=\"font-size: 10pt;\">1000000000</span></td>\n",
    "<td style=\"width: 22.7911%; height: 18px;\"><span style=\"font-size: 10pt; font-family: Arial; color: #000000; background-color: transparent; font-weight: 400; font-variant: normal; text-decoration: none; vertical-align: baseline; white-space: pre-wrap;\">21.095409393310547</span></td>\n",
    "<td style=\"width: 22.0751%; height: 18px;\"><span style=\"font-size: 10pt; font-family: Arial; color: #000000; background-color: transparent; font-weight: 400; font-variant: normal; text-decoration: none; vertical-align: baseline; white-space: pre-wrap;\">21.095409393310547</span></td>\n",
    "<td style=\"width: 21.2365%; height: 18px;\"><span style=\"font-size: 10pt; font-family: Arial; color: #000000; background-color: transparent; font-weight: 400; font-variant: normal; text-decoration: none; vertical-align: baseline; white-space: pre-wrap;\">6.714877362985149e-09</span></td>\n",
    "<td style=\"width: 20.4974%; height: 18px;\"><span style=\"font-size: 10pt; font-family: Arial; color: #000000; background-color: transparent; font-weight: 400; font-variant: normal; text-decoration: none; vertical-align: baseline; white-space: pre-wrap;\">6.714877362985149e-09</span></td>\n",
    "</tr>\n",
    "</tbody>\n",
    "</table>"
   ]
  },
  {
   "cell_type": "markdown",
   "metadata": {},
   "source": [
    "<h2>Conclution</h2>\n",
    "<p style=\"line-height: 1.38; margin-top: 0pt; margin-bottom: 0pt;\"><span style=\"font-size: 12pt; font-family: Arial; color: #000000; background-color: transparent; font-weight: 400; font-variant: normal; text-decoration: none; vertical-align: baseline; white-space: pre-wrap;\">Looking at the Error Table it can be observe that as N increases the naive error also increase</span></p>\n",
    "<p style=\"line-height: 1.38; margin-top: 0pt; margin-bottom: 0pt;\"><span style=\"font-size: 12pt; font-family: Arial; color: #000000; background-color: transparent; font-weight: 400; font-variant: normal; text-decoration: none; vertical-align: baseline; white-space: pre-wrap;\">For example when </span><span style=\"font-size: 10.5pt; font-family: Arial; color: #000000; background-color: transparent; font-weight: 400; font-variant: normal; text-decoration: none; vertical-align: baseline; white-space: pre-wrap;\">N= 1 x 10^6,</span><span style=\"font-size: 12pt; font-family: Arial; color: #000000; background-color: transparent; font-weight: 400; font-variant: normal; text-decoration: none; vertical-align: baseline; white-space: pre-wrap;\">, abs error(naive) = </span><span style=\"font-size: 10.5pt; font-family: Arial; color: #000000; background-color: transparent; font-weight: 400; font-variant: normal; text-decoration: none; vertical-align: baseline; white-space: pre-wrap;\">&nbsp;.75805410742759705 % &nbsp;comparing when</span></p>\n",
    "<p style=\"line-height: 1.38; margin-top: 0pt; margin-bottom: 0pt;\"><span style=\"font-size: 10.5pt; font-family: Arial; color: #000000; background-color: transparent; font-weight: 400; font-variant: normal; text-decoration: none; vertical-align: baseline; white-space: pre-wrap;\"> N= 1 x 10^7,</span><span style=\"font-size: 12pt; font-family: Arial; color: #000000; background-color: transparent; font-weight: 400; font-variant: normal; text-decoration: none; vertical-align: baseline; white-space: pre-wrap;\"> , abs naive error =</span><span style=\"font-size: 10.5pt; font-family: Arial; color: #000000; background-color: transparent; font-weight: 400; font-variant: normal; text-decoration: none; vertical-align: baseline; white-space: pre-wrap;\"> 26.52927041053772% . The increase in absolute error is significantly </span></p>\n",
    "<p style=\"line-height: 1.38; margin-top: 0pt; margin-bottom: 0pt;\"><span style=\"font-size: 10.5pt; font-family: Arial; color: #000000; background-color: transparent; font-weight: 400; font-variant: normal; text-decoration: none; vertical-align: baseline; white-space: pre-wrap;\">therefore, the computers are not reliable for big computation.</span></p>\n",
    "<p style=\"line-height: 1.38; margin-top: 0pt; margin-bottom: 0pt;\"><span style=\"font-size: 10.5pt; font-family: Arial; color: #000000; background-color: transparent; font-weight: 400; font-variant: normal; text-decoration: none; vertical-align: baseline; white-space: pre-wrap;\">The relative error does not vary by that much</span></p>\n",
    "<p style=\"line-height: 1.457148; margin-top: 0pt; margin-bottom: 0pt;\"><span style=\"font-size: 10.5pt; font-family: Arial; color: #000000; background-color: transparent; font-weight: 400; font-variant: normal; text-decoration: none; vertical-align: baseline; white-space: pre-wrap;\">N= 1x10^6, relative naive error = 2.4129611665643346e-10</span></p>\n",
    "<p style=\"line-height: 1.457148; margin-top: 0pt; margin-bottom: 0pt;\"><span style=\"font-size: 10.5pt; font-family: Arial; color: #000000; background-color: transparent; font-weight: 400; font-variant: normal; text-decoration: none; vertical-align: baseline; white-space: pre-wrap;\">N=1x10^7, relative naive error = 8.444529044917268e-10</span></p>"
   ]
  },
  {
   "cell_type": "code",
   "execution_count": null,
   "metadata": {},
   "outputs": [],
   "source": []
  }
 ],
 "metadata": {
  "kernelspec": {
   "display_name": "Python 3",
   "language": "python",
   "name": "python3"
  },
  "language_info": {
   "codemirror_mode": {
    "name": "ipython",
    "version": 3
   },
   "file_extension": ".py",
   "mimetype": "text/x-python",
   "name": "python",
   "nbconvert_exporter": "python",
   "pygments_lexer": "ipython3",
   "version": "3.7.1"
  }
 },
 "nbformat": 4,
 "nbformat_minor": 2
}
