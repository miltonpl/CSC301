{
 "cells": [
  {
   "cell_type": "markdown",
   "metadata": {},
   "source": [
    "#                                  Assignment 3\n",
    "## CSC 30100\n",
    "## Milton Palaguachi\n",
    "<p>The Taylor Polynomials is use to aproximate a matematical function such as sin(x), cos(x), exp(x), log(1-x)&nbsp; where x&lt;1 for the log function. To obait an acurate result one should increase the size of n when computing the Taylor Polynomials of a function. Let's talk about how to go from function to Taylor Polynomials, for example sin(x), in simple word is we differientiate to the n degree and compute at center zero.&nbsp;&nbsp;</p>"
   ]
  },
  {
   "cell_type": "markdown",
   "metadata": {},
   "source": [
    "## Factorial and Taloy Approximation of function"
   ]
  },
  {
   "cell_type": "code",
   "execution_count": 310,
   "metadata": {},
   "outputs": [],
   "source": [
    "import sympy as sy\n",
    "import numpy as np\n",
    "from sympy.functions import sin,cos,exp,log\n",
    "import matplotlib.pyplot as plt\n",
    "import math\n",
    "\n",
    "plt.style.use(\"ggplot\")\n",
    "\n",
    "#Factorial function\n",
    "def factorial(n):\n",
    "    if n <= 1:\n",
    "        return 1\n",
    "    else:\n",
    "        return n*factorial(n-1)\n",
    "    \n",
    "# Taylor approximation at a of the function 'function'\n",
    "def taylor(function,a,n):\n",
    "    i = 0\n",
    "    p = 0\n",
    "    while i <= n:\n",
    "        p = p + (function.diff(x,i).subs(x,a))/(factorial(i))*(x-a)**i\n",
    "        i += 1\n",
    "    return p\n"
   ]
  },
  {
   "cell_type": "markdown",
   "metadata": {},
   "source": [
    "### Plot_sin( ) function definition"
   ]
  },
  {
   "cell_type": "code",
   "execution_count": 311,
   "metadata": {},
   "outputs": [],
   "source": [
    "# Plot results  n lit of lit [1,2,3..], f=sin(x), f=cos(x), e=\n",
    "def plot_sin(f):\n",
    "    \n",
    "  \n",
    "    x_lims = [-15,15]\n",
    "    x1 = np.linspace(x_lims[0],x_lims[1],600)\n",
    "    y1 = []\n",
    "    \n",
    "    # Approximate up until 10 starting from 1 and using steps of n\n",
    "    for j in range(0,len(n)):\n",
    "        func = taylor(f,0,n[j])\n",
    "        for k in x1:\n",
    "            y1.append(func.subs(x,k))\n",
    "        plt.plot(x1,y1,label='n '+str(n[j]))\n",
    "        y1 = []\n",
    "    # Plot the function to approximate (sine, in this case)\n",
    "    plt.plot(x1,np.sin(x1),label = 'f=sin(x)')\n",
    "    plt.xlim(x_lims)\n",
    "    plt.ylim([-15,15])\n",
    "    plt.xlabel('x')\n",
    "    plt.ylabel('y')\n",
    "    plt.legend()\n",
    "    plt.grid(True)\n",
    "    plt.title('Taylor Polynomials')\n",
    "    plt.show()\n",
    "\n"
   ]
  },
  {
   "cell_type": "code",
   "execution_count": null,
   "metadata": {},
   "outputs": [],
   "source": []
  },
  {
   "cell_type": "markdown",
   "metadata": {},
   "source": [
    "### Plot_cos( ) function definition"
   ]
  },
  {
   "cell_type": "code",
   "execution_count": 312,
   "metadata": {},
   "outputs": [],
   "source": [
    "# Plot  f=cos(x)\n",
    "def plot_cos(f):\n",
    "    \n",
    "  \n",
    "    x_lims = [-15,15]\n",
    "    x1 = np.linspace(x_lims[0],x_lims[1],600)\n",
    "    y1 = []\n",
    "    \n",
    "    # Approximate up until 10 starting from 1 and using steps of n\n",
    "    for j in range(0,len(n)):\n",
    "        func = taylor(f,0,n[j])\n",
    "        for k in x1:\n",
    "            y1.append(func.subs(x,k))\n",
    "        plt.plot(x1,y1,label='n '+str(n[j]))\n",
    "        y1 = []\n",
    "    # Plot the function to approximate (sine, in this case)\n",
    "    plt.plot(x1,np.cos(x1),label = 'f=cos(x)')\n",
    "    plt.xlim(x_lims)\n",
    "    plt.ylim([-15,15])\n",
    "    plt.xlabel('x')\n",
    "    plt.ylabel('y')\n",
    "    plt.legend()\n",
    "    plt.grid(True)\n",
    "    plt.title('Taylor Polynomials')\n",
    "    plt.show()\n",
    "\n"
   ]
  },
  {
   "cell_type": "markdown",
   "metadata": {},
   "source": [
    "### Plot_exp( ) function definition"
   ]
  },
  {
   "cell_type": "code",
   "execution_count": 313,
   "metadata": {},
   "outputs": [],
   "source": [
    "# Plot results  n lit of lit [1,2,3..], f=sin(x), f=cos(x), e=\n",
    "def plot_exp(f):\n",
    "    \n",
    "  \n",
    "    x_lims = [-15,15]\n",
    "    x1 = np.linspace(x_lims[0],x_lims[1],600)\n",
    "    y1 = []\n",
    "    \n",
    "    # Approximate up until 10 starting from 1 and using steps of n\n",
    "    for j in range(0,len(n)):\n",
    "        func = taylor(f,0,n[j])\n",
    "        for k in x1:\n",
    "            y1.append(func.subs(x,k))\n",
    "        plt.plot(x1,y1,label='n '+str(n[j]))\n",
    "        y1 = []\n",
    "    # Plot the function to approximate (sine, in this case)\n",
    "    plt.plot(x1,np.exp(x1),label = 'f=exp(x)')\n",
    "    plt.xlim(x_lims)\n",
    "    plt.ylim([-15,15])\n",
    "    plt.xlabel('x')\n",
    "    plt.ylabel('y')\n",
    "    plt.legend()\n",
    "    plt.grid(True)\n",
    "    plt.title('Taylor Polynomials')\n",
    "    plt.show()\n",
    "\n"
   ]
  },
  {
   "cell_type": "markdown",
   "metadata": {},
   "source": [
    "### Plot_log( ) function definition"
   ]
  },
  {
   "cell_type": "code",
   "execution_count": 314,
   "metadata": {},
   "outputs": [],
   "source": [
    "# Plot results  n lit of lit [1,2,3..], f=sin(x), f=cos(x), e=\n",
    "def plot_log(f):\n",
    "    \n",
    "  \n",
    "    x_lims = [-15,15]\n",
    "#        np.linspace(max      ,min, #points)\n",
    "    x1 = np.linspace(x_lims[0],x_lims[1],600)\n",
    "    y1 = []\n",
    "    \n",
    "    # Approximate up until 10 starting from 1 and using steps of n\n",
    "    for j in range(0,len(n)):\n",
    "        func = taylor(f,0,n[j])\n",
    "        for k in x1:\n",
    "            y1.append(func.subs(x,k))\n",
    "        plt.plot(x1,y1,label='n '+str(n[j]))\n",
    "        y1 = []\n",
    "    # Plot the function to approximate (sine, in this case)\n",
    "    plt.plot(x1,np.log(1-x1),label = 'f=log(1-x)')\n",
    "    plt.xlim(x_lims)\n",
    "    plt.ylim([-15,15])\n",
    "    plt.xlabel('x')\n",
    "    plt.ylabel('y')\n",
    "    plt.legend()\n",
    "    plt.grid(True)\n",
    "    plt.title('Taylor Polynomials')\n",
    "    plt.show()\n",
    "\n"
   ]
  },
  {
   "cell_type": "markdown",
   "metadata": {},
   "source": [
    "# Below We Calculate the exact value with its respective functions \n",
    "## xlist = [1/32, 1/16, 1/8, 1/4, 1/2, 1, 2, 4]"
   ]
  },
  {
   "cell_type": "markdown",
   "metadata": {},
   "source": [
    "### Calculate_sin( )"
   ]
  },
  {
   "cell_type": "code",
   "execution_count": 315,
   "metadata": {},
   "outputs": [],
   "source": [
    "\n",
    "def sin_actual():\n",
    "    m=[]\n",
    "    for k in xlist:\n",
    "         m.append(sin(k))\n",
    "    return m\n",
    "#reutrn arrary m"
   ]
  },
  {
   "cell_type": "markdown",
   "metadata": {},
   "source": [
    "### Calculate_cos( )"
   ]
  },
  {
   "cell_type": "code",
   "execution_count": 316,
   "metadata": {},
   "outputs": [],
   "source": [
    "def cos_actual():\n",
    "    m=[]\n",
    "    for k in xlist:\n",
    "        m.append(cos(k))\n",
    "    return m\n",
    "#reutrn arrary m"
   ]
  },
  {
   "cell_type": "markdown",
   "metadata": {},
   "source": [
    "### Calculate_exp( )"
   ]
  },
  {
   "cell_type": "code",
   "execution_count": 317,
   "metadata": {},
   "outputs": [],
   "source": [
    "def exp_actual():\n",
    "    m=[]\n",
    "    for k in xlist:\n",
    "        m.append(exp(k))\n",
    "    return m\n",
    "#reutrn arrary m"
   ]
  },
  {
   "cell_type": "markdown",
   "metadata": {},
   "source": [
    "### Calculate_log( )"
   ]
  },
  {
   "cell_type": "code",
   "execution_count": 318,
   "metadata": {},
   "outputs": [],
   "source": [
    "def log_actual():\n",
    "    m=[]\n",
    "    for k in xlist:\n",
    "        m.append(log(1-k))\n",
    "    return m\n",
    "#reutrn arrary m"
   ]
  },
  {
   "cell_type": "markdown",
   "metadata": {},
   "source": [
    "## The calculate function calculates  the polynomial to the degree n \n",
    "### Also it takes a f function: sin(), cos(),exp() or log(1-x)\n",
    "#### n = [1, 2, 3, 4, 8, 16, 32, 64, 128, 256]\n",
    "#### xlist = [1/32, 1/16, 1/8, 1/4, 1/2, 1, 2, 4]"
   ]
  },
  {
   "cell_type": "code",
   "execution_count": 319,
   "metadata": {},
   "outputs": [],
   "source": [
    "def calculate(f):\n",
    "    a=[]\n",
    "    for j in range (0, len(n)):\n",
    "        a.append([])\n",
    "        func= taylor(f,0,n[j])\n",
    "        for k in xlist:\n",
    "              a[j].append(func.subs(x,k))\n",
    "    return a\n",
    "\n",
    "#reutrn arrary 2D array a   \n",
    "            \n"
   ]
  },
  {
   "cell_type": "markdown",
   "metadata": {},
   "source": [
    "## Print_data: Takes Taylor Polynomial data calculated and exact data\n",
    "### Calculate Absolute Error and Relative Error"
   ]
  },
  {
   "cell_type": "code",
   "execution_count": 320,
   "metadata": {},
   "outputs": [],
   "source": [
    "#print(FunctionList)\n",
    "def print_data(taylor_data,data):\n",
    "    w = []\n",
    "    v = []\n",
    "    for j in range(0, len(n)):\n",
    "        v.append([])\n",
    "        w.append([])\n",
    "        print('when n ='+str(n[j]))\n",
    "        print(\".................................................................................................................\")\n",
    "        print(\"    X     Calculated          Actual              absErr(%)      relativeErr(%) \")   \n",
    "        for i in range(0, len(xlist)):\n",
    "            measure = taylor_data[j][i]\n",
    "            actual = data[i]\n",
    "            absError = abs(measure - actual)*100\n",
    "            relativeError = (abs(measure - actual) / actual)*100 \n",
    "            v[j].append(float(\"%.12f\"%absError))\n",
    "            w[j].append(float(\"%.12f\"%relativeError))\n",
    "            \n",
    "            print(str(xlist[i]).rjust(7),'|',float(\"%.12f\"%(measure)),\"|\".rjust(10), float(\"%.12f\"%(actual)), \"|\".rjust(10), float(\"%.10f\"%(absError)),\"|\".rjust(10),float(\"%.10f\"%(relativeError)))\n",
    "    return v,w\n"
   ]
  },
  {
   "cell_type": "code",
   "execution_count": 321,
   "metadata": {},
   "outputs": [],
   "source": [
    "## Define the variable and the function to approximate\n",
    "\n",
    "x = sy.Symbol('x')\n",
    "f = sin(x)\n",
    "n = [1, 2, 3, 4, 8, 16, 32, 64, 128, 256]\n",
    "xlist = [1/32, 1/16, 1/8, 1/4, 1/2, 1, 2, 4]\n",
    "taylor_data_sin = calculate(f)\n",
    "sin_data=sin_actual()\n"
   ]
  },
  {
   "cell_type": "code",
   "execution_count": 322,
   "metadata": {},
   "outputs": [
    {
     "name": "stdout",
     "output_type": "stream",
     "text": [
      "when n =1\n",
      ".................................................................................................................\n",
      "    X     Calculated          Actual              absErr(%)      relativeErr(%) \n",
      "0.03125 | 0.03125          | 0.031244913985          | 0.0005086015          | 0.0162778962\n",
      " 0.0625 | 0.0625          | 0.062459317842          | 0.0040682158          | 0.0651338488\n",
      "  0.125 | 0.125          | 0.124674733385          | 0.0325266615          | 0.2608921679\n",
      "   0.25 | 0.25          | 0.247403959255          | 0.2596040745          | 1.0493125305\n",
      "    0.5 | 0.5          | 0.479425538604          | 2.0574461396          | 4.2914821467\n",
      "      1 | 1.0          | 0.841470984808          | 15.8529015192          | 18.8395105778\n",
      "      2 | 2.0          | 0.909297426826          | 109.0702573174          | 119.9500340589\n",
      "      4 | 4.0          | -0.756802495308          | 475.6802495308          | -628.5394835244\n",
      "when n =2\n",
      ".................................................................................................................\n",
      "    X     Calculated          Actual              absErr(%)      relativeErr(%) \n",
      "0.03125 | 0.03125          | 0.031244913985          | 0.0005086015          | 0.0162778962\n",
      " 0.0625 | 0.0625          | 0.062459317842          | 0.0040682158          | 0.0651338488\n",
      "  0.125 | 0.125          | 0.124674733385          | 0.0325266615          | 0.2608921679\n",
      "   0.25 | 0.25          | 0.247403959255          | 0.2596040745          | 1.0493125305\n",
      "    0.5 | 0.5          | 0.479425538604          | 2.0574461396          | 4.2914821467\n",
      "      1 | 1.0          | 0.841470984808          | 15.8529015192          | 18.8395105778\n",
      "      2 | 2.0          | 0.909297426826          | 109.0702573174          | 119.9500340589\n",
      "      4 | 4.0          | -0.756802495308          | 475.6802495308          | -628.5394835244\n",
      "when n =3\n",
      ".................................................................................................................\n",
      "    X     Calculated          Actual              absErr(%)      relativeErr(%) \n",
      "0.03125 | 0.031244913737          | 0.031244913985          | 2.48e-08          | 7.948e-07\n",
      " 0.0625 | 0.062459309896          | 0.062459317842          | 7.947e-07          | 1.27228e-05\n",
      "  0.125 | 0.124674479167          | 0.124674733385          | 2.54219e-05          | 0.0002039054\n",
      "   0.25 | 0.247395833333          | 0.247403959255          | 0.0008125921          | 0.003284475\n",
      "    0.5 | 0.479166666667          | 0.479425538604          | 0.0258871938          | 0.0539962761\n",
      "      1 | 0.833333333333          | 0.841470984808          | 0.8137651475          | 0.9670745185\n",
      "      2 | 0.666666666667          | 0.909297426826          | 24.2630760159          | 26.6833219804\n",
      "      4 | -6.666666666667          | -0.756802495308          | 590.9864171359          | -780.8991392073\n",
      "when n =4\n",
      ".................................................................................................................\n",
      "    X     Calculated          Actual              absErr(%)      relativeErr(%) \n",
      "0.03125 | 0.031244913737          | 0.031244913985          | 2.48e-08          | 7.948e-07\n",
      " 0.0625 | 0.062459309896          | 0.062459317842          | 7.947e-07          | 1.27228e-05\n",
      "  0.125 | 0.124674479167          | 0.124674733385          | 2.54219e-05          | 0.0002039054\n",
      "   0.25 | 0.247395833333          | 0.247403959255          | 0.0008125921          | 0.003284475\n",
      "    0.5 | 0.479166666667          | 0.479425538604          | 0.0258871938          | 0.0539962761\n",
      "      1 | 0.833333333333          | 0.841470984808          | 0.8137651475          | 0.9670745185\n",
      "      2 | 0.666666666667          | 0.909297426826          | 24.2630760159          | 26.6833219804\n",
      "      4 | -6.666666666667          | -0.756802495308          | 590.9864171359          | -780.8991392073\n",
      "when n =8\n",
      ".................................................................................................................\n",
      "    X     Calculated          Actual              absErr(%)      relativeErr(%) \n",
      "0.03125 | 0.031244913985          | 0.031244913985          | 0.0          | 0.0\n",
      " 0.0625 | 0.062459317842          | 0.062459317842          | 0.0          | 0.0\n",
      "  0.125 | 0.124674733385          | 0.124674733385          | 0.0          | 0.0\n",
      "   0.25 | 0.247403959244          | 0.247403959255          | 1.1e-09          | 4.2e-09\n",
      "    0.5 | 0.479425533234          | 0.479425538604          | 5.37e-07          | 1.1201e-06\n",
      "      1 | 0.841468253968          | 0.841470984808          | 0.000273084          | 0.0003245316\n",
      "      2 | 0.907936507937          | 0.909297426826          | 0.1360918889          | 0.149667078\n",
      "      4 | -1.384126984127          | -0.756802495308          | 62.7324488819          | -82.8914403307\n",
      "when n =16\n",
      ".................................................................................................................\n",
      "    X     Calculated          Actual              absErr(%)      relativeErr(%) \n",
      "0.03125 | 0.031244913985          | 0.031244913985          | 0.0          | 0.0\n",
      " 0.0625 | 0.062459317842          | 0.062459317842          | 0.0          | 0.0\n",
      "  0.125 | 0.124674733385          | 0.124674733385          | 0.0          | 0.0\n",
      "   0.25 | 0.247403959255          | 0.247403959255          | 0.0          | 0.0\n",
      "    0.5 | 0.479425538604          | 0.479425538604          | 0.0          | 0.0\n",
      "      1 | 0.841470984808          | 0.841470984808          | 0.0          | 0.0\n",
      "      2 | 0.909297426461          | 0.909297426826          | 3.64e-08          | 4.01e-08\n",
      "      4 | -0.756848619536          | -0.756802495308          | 0.0046124229          | -0.006094619\n",
      "when n =32\n",
      ".................................................................................................................\n",
      "    X     Calculated          Actual              absErr(%)      relativeErr(%) \n",
      "0.03125 | 0.031244913985          | 0.031244913985          | 0.0          | 0.0\n",
      " 0.0625 | 0.062459317842          | 0.062459317842          | 0.0          | 0.0\n",
      "  0.125 | 0.124674733385          | 0.124674733385          | 0.0          | 0.0\n",
      "   0.25 | 0.247403959255          | 0.247403959255          | 0.0          | 0.0\n",
      "    0.5 | 0.479425538604          | 0.479425538604          | 0.0          | 0.0\n",
      "      1 | 0.841470984808          | 0.841470984808          | 0.0          | 0.0\n",
      "      2 | 0.909297426826          | 0.909297426826          | 0.0          | 0.0\n",
      "      4 | -0.756802495308          | -0.756802495308          | 0.0          | -0.0\n",
      "when n =64\n",
      ".................................................................................................................\n",
      "    X     Calculated          Actual              absErr(%)      relativeErr(%) \n",
      "0.03125 | 0.031244913985          | 0.031244913985          | 0.0          | 0.0\n",
      " 0.0625 | 0.062459317842          | 0.062459317842          | 0.0          | 0.0\n",
      "  0.125 | 0.124674733385          | 0.124674733385          | 0.0          | 0.0\n",
      "   0.25 | 0.247403959255          | 0.247403959255          | 0.0          | 0.0\n",
      "    0.5 | 0.479425538604          | 0.479425538604          | 0.0          | 0.0\n",
      "      1 | 0.841470984808          | 0.841470984808          | 0.0          | 0.0\n",
      "      2 | 0.909297426826          | 0.909297426826          | 0.0          | 0.0\n",
      "      4 | -0.756802495308          | -0.756802495308          | 0.0          | -0.0\n",
      "when n =128\n",
      ".................................................................................................................\n",
      "    X     Calculated          Actual              absErr(%)      relativeErr(%) \n",
      "0.03125 | 0.031244913985          | 0.031244913985          | 0.0          | 0.0\n",
      " 0.0625 | 0.062459317842          | 0.062459317842          | 0.0          | 0.0\n",
      "  0.125 | 0.124674733385          | 0.124674733385          | 0.0          | 0.0\n",
      "   0.25 | 0.247403959255          | 0.247403959255          | 0.0          | 0.0\n",
      "    0.5 | 0.479425538604          | 0.479425538604          | 0.0          | 0.0\n",
      "      1 | 0.841470984808          | 0.841470984808          | 0.0          | 0.0\n",
      "      2 | 0.909297426826          | 0.909297426826          | 0.0          | 0.0\n",
      "      4 | -0.756802495308          | -0.756802495308          | 0.0          | -0.0\n",
      "when n =256\n",
      ".................................................................................................................\n",
      "    X     Calculated          Actual              absErr(%)      relativeErr(%) \n",
      "0.03125 | 0.031244913985          | 0.031244913985          | 0.0          | 0.0\n",
      " 0.0625 | 0.062459317842          | 0.062459317842          | 0.0          | 0.0\n",
      "  0.125 | 0.124674733385          | 0.124674733385          | 0.0          | 0.0\n",
      "   0.25 | 0.247403959255          | 0.247403959255          | 0.0          | 0.0\n",
      "    0.5 | 0.479425538604          | 0.479425538604          | 0.0          | 0.0\n",
      "      1 | 0.841470984808          | 0.841470984808          | 0.0          | 0.0\n",
      "      2 | 0.909297426826          | 0.909297426826          | 0.0          | 0.0\n",
      "      4 | -0.756802495308          | -0.756802495308          | 0.0          | -0.0\n"
     ]
    }
   ],
   "source": [
    "sin_abs_err, sin_relative_err = print_data(taylor_data_sin,sin_data)\n",
    "\n"
   ]
  },
  {
   "cell_type": "code",
   "execution_count": 323,
   "metadata": {},
   "outputs": [
    {
     "data": {
      "image/png": "[encoded data removed]",
      "text/plain": [
       "<Figure size 432x288 with 1 Axes>"
      ]
     },
     "metadata": {},
     "output_type": "display_data"
    }
   ],
   "source": [
    "plot_sin(f)"
   ]
  },
  {
   "cell_type": "code",
   "execution_count": 324,
   "metadata": {},
   "outputs": [
    {
     "name": "stdout",
     "output_type": "stream",
     "text": [
      "when n =1\n",
      ".................................................................................................................\n",
      "    X     Calculated          Actual              absErr(%)      relativeErr(%) \n",
      "0.03125 | 1.0          | 0.999511758485          | 0.0488241515          | 0.0488480011\n",
      " 0.0625 | 1.0          | 0.9980475107          | 0.19524893          | 0.1956308972\n",
      "  0.125 | 1.0          | 0.992197667229          | 0.7802332771          | 0.786368788\n",
      "   0.25 | 1.0          | 0.968912421711          | 3.1087578289          | 3.2085023984\n",
      "    0.5 | 1.0          | 0.87758256189          | 12.241743811          | 13.9493927325\n",
      "      1 | 1.0          | 0.540302305868          | 45.9697694132          | 85.0815717681\n",
      "      2 | 1.0          | -0.416146836547          | 141.6146836547          | -340.2997961722\n",
      "      4 | 1.0          | -0.653643620864          | 165.3643620864          | -252.9885656466\n",
      "when n =2\n",
      ".................................................................................................................\n",
      "    X     Calculated          Actual              absErr(%)      relativeErr(%) \n",
      "0.03125 | 0.99951171875          | 0.999511758485          | 3.9735e-06          | 3.9755e-06\n",
      " 0.0625 | 0.998046875          | 0.9980475107          | 6.357e-05          | 6.36944e-05\n",
      "  0.125 | 0.9921875          | 0.992197667229          | 0.0010167229          | 0.0010247181\n",
      "   0.25 | 0.96875          | 0.968912421711          | 0.0162421711          | 0.0167633015\n",
      "    0.5 | 0.875          | 0.87758256189          | 0.258256189          | 0.2942813591\n",
      "      1 | 0.5          | 0.540302305868          | 4.0302305868          | 7.459214116\n",
      "      2 | -1.0          | -0.416146836547          | 58.3853163453          | -140.2997961722\n",
      "      4 | -7.0          | -0.653643620864          | 634.6356379136          | -970.9199595265\n",
      "when n =3\n",
      ".................................................................................................................\n",
      "    X     Calculated          Actual              absErr(%)      relativeErr(%) \n",
      "0.03125 | 0.99951171875          | 0.999511758485          | 3.9735e-06          | 3.9755e-06\n",
      " 0.0625 | 0.998046875          | 0.9980475107          | 6.357e-05          | 6.36944e-05\n",
      "  0.125 | 0.9921875          | 0.992197667229          | 0.0010167229          | 0.0010247181\n",
      "   0.25 | 0.96875          | 0.968912421711          | 0.0162421711          | 0.0167633015\n",
      "    0.5 | 0.875          | 0.87758256189          | 0.258256189          | 0.2942813591\n",
      "      1 | 0.5          | 0.540302305868          | 4.0302305868          | 7.459214116\n",
      "      2 | -1.0          | -0.416146836547          | 58.3853163453          | -140.2997961722\n",
      "      4 | -7.0          | -0.653643620864          | 634.6356379136          | -970.9199595265\n",
      "when n =4\n",
      ".................................................................................................................\n",
      "    X     Calculated          Actual              absErr(%)      relativeErr(%) \n",
      "0.03125 | 0.999511758486          | 0.999511758485          | 1e-10          | 1e-10\n",
      " 0.0625 | 0.998047510783          | 0.9980475107          | 8.3e-09          | 8.3e-09\n",
      "  0.125 | 0.992197672526          | 0.992197667229          | 5.297e-07          | 5.338e-07\n",
      "   0.25 | 0.968912760417          | 0.968912421711          | 3.38706e-05          | 3.49573e-05\n",
      "    0.5 | 0.877604166667          | 0.87758256189          | 0.0021604776          | 0.0024618511\n",
      "      1 | 0.541666666667          | 0.540302305868          | 0.1364360799          | 0.2525180411\n",
      "      2 | -0.333333333333          | -0.416146836547          | 8.2813503214          | -19.9000679426\n",
      "      4 | 3.666666666667          | -0.653643620864          | 432.031028753          | -660.9580740377\n",
      "when n =8\n",
      ".................................................................................................................\n",
      "    X     Calculated          Actual              absErr(%)      relativeErr(%) \n",
      "0.03125 | 0.999511758485          | 0.999511758485          | 0.0          | 0.0\n",
      " 0.0625 | 0.9980475107          | 0.9980475107          | 0.0          | 0.0\n",
      "  0.125 | 0.992197667229          | 0.992197667229          | 0.0          | 0.0\n",
      "   0.25 | 0.968912421711          | 0.968912421711          | 0.0          | 0.0\n",
      "    0.5 | 0.877582562159          | 0.87758256189          | 2.69e-08          | 3.06e-08\n",
      "      1 | 0.540302579365          | 0.540302305868          | 2.73497e-05          | 5.06192e-05\n",
      "      2 | -0.415873015873          | -0.416146836547          | 0.0273820674          | -0.0657990522\n",
      "      4 | -0.396825396825          | -0.653643620864          | 25.6818224038          | -39.2902517275\n",
      "when n =16\n",
      ".................................................................................................................\n",
      "    X     Calculated          Actual              absErr(%)      relativeErr(%) \n",
      "0.03125 | 0.999511758485          | 0.999511758485          | 0.0          | 0.0\n",
      " 0.0625 | 0.9980475107          | 0.9980475107          | 0.0          | 0.0\n",
      "  0.125 | 0.992197667229          | 0.992197667229          | 0.0          | 0.0\n",
      "   0.25 | 0.968912421711          | 0.968912421711          | 0.0          | 0.0\n",
      "    0.5 | 0.87758256189          | 0.87758256189          | 0.0          | 0.0\n",
      "      1 | 0.540302305868          | 0.540302305868          | 0.0          | 0.0\n",
      "      2 | -0.416146836507          | -0.416146836547          | 4.1e-09          | -9.7e-09\n",
      "      4 | -0.653633324152          | -0.653643620864          | 0.0010296712          | -0.0015752792\n",
      "when n =32\n",
      ".................................................................................................................\n",
      "    X     Calculated          Actual              absErr(%)      relativeErr(%) \n",
      "0.03125 | 0.999511758485          | 0.999511758485          | 0.0          | 0.0\n",
      " 0.0625 | 0.9980475107          | 0.9980475107          | 0.0          | 0.0\n",
      "  0.125 | 0.992197667229          | 0.992197667229          | 0.0          | 0.0\n",
      "   0.25 | 0.968912421711          | 0.968912421711          | 0.0          | 0.0\n",
      "    0.5 | 0.87758256189          | 0.87758256189          | 0.0          | 0.0\n",
      "      1 | 0.540302305868          | 0.540302305868          | 0.0          | 0.0\n",
      "      2 | -0.416146836547          | -0.416146836547          | 0.0          | -0.0\n",
      "      4 | -0.653643620864          | -0.653643620864          | 0.0          | -0.0\n",
      "when n =64\n",
      ".................................................................................................................\n",
      "    X     Calculated          Actual              absErr(%)      relativeErr(%) \n",
      "0.03125 | 0.999511758485          | 0.999511758485          | 0.0          | 0.0\n",
      " 0.0625 | 0.9980475107          | 0.9980475107          | 0.0          | 0.0\n",
      "  0.125 | 0.992197667229          | 0.992197667229          | 0.0          | 0.0\n",
      "   0.25 | 0.968912421711          | 0.968912421711          | 0.0          | 0.0\n",
      "    0.5 | 0.87758256189          | 0.87758256189          | 0.0          | 0.0\n",
      "      1 | 0.540302305868          | 0.540302305868          | 0.0          | 0.0\n",
      "      2 | -0.416146836547          | -0.416146836547          | 0.0          | -0.0\n",
      "      4 | -0.653643620864          | -0.653643620864          | 0.0          | -0.0\n",
      "when n =128\n",
      ".................................................................................................................\n",
      "    X     Calculated          Actual              absErr(%)      relativeErr(%) \n",
      "0.03125 | 0.999511758485          | 0.999511758485          | 0.0          | 0.0\n",
      " 0.0625 | 0.9980475107          | 0.9980475107          | 0.0          | 0.0\n",
      "  0.125 | 0.992197667229          | 0.992197667229          | 0.0          | 0.0\n",
      "   0.25 | 0.968912421711          | 0.968912421711          | 0.0          | 0.0\n",
      "    0.5 | 0.87758256189          | 0.87758256189          | 0.0          | 0.0\n",
      "      1 | 0.540302305868          | 0.540302305868          | 0.0          | 0.0\n",
      "      2 | -0.416146836547          | -0.416146836547          | 0.0          | -0.0\n",
      "      4 | -0.653643620864          | -0.653643620864          | 0.0          | -0.0\n",
      "when n =256\n",
      ".................................................................................................................\n",
      "    X     Calculated          Actual              absErr(%)      relativeErr(%) \n",
      "0.03125 | 0.999511758485          | 0.999511758485          | 0.0          | 0.0\n",
      " 0.0625 | 0.9980475107          | 0.9980475107          | 0.0          | 0.0\n",
      "  0.125 | 0.992197667229          | 0.992197667229          | 0.0          | 0.0\n",
      "   0.25 | 0.968912421711          | 0.968912421711          | 0.0          | 0.0\n",
      "    0.5 | 0.87758256189          | 0.87758256189          | 0.0          | 0.0\n",
      "      1 | 0.540302305868          | 0.540302305868          | 0.0          | 0.0\n",
      "      2 | -0.416146836547          | -0.416146836547          | 0.0          | -0.0\n",
      "      4 | -0.653643620864          | -0.653643620864          | 0.0          | -0.0\n"
     ]
    }
   ],
   "source": [
    "f = cos(x)\n",
    "cos_taylor_data = calculate(f)\n",
    "cos_data=cos_actual()\n",
    "cos_abs_err, cos_relative_err = print_data(cos_taylor_data, cos_data)\n"
   ]
  },
  {
   "cell_type": "code",
   "execution_count": 325,
   "metadata": {},
   "outputs": [
    {
     "data": {
      "image/png": "[encoded data removed]",
      "text/plain": [
       "<Figure size 432x288 with 1 Axes>"
      ]
     },
     "metadata": {},
     "output_type": "display_data"
    }
   ],
   "source": [
    "plot_cos(f)"
   ]
  },
  {
   "cell_type": "code",
   "execution_count": 326,
   "metadata": {},
   "outputs": [
    {
     "name": "stdout",
     "output_type": "stream",
     "text": [
      "when n =1\n",
      ".................................................................................................................\n",
      "    X     Calculated          Actual              absErr(%)      relativeErr(%) \n",
      "0.03125 | 1.03125          | 1.031743407499          | 0.0493407499          | 0.0478226946\n",
      " 0.0625 | 1.0625          | 1.064494458918          | 0.1994458918          | 0.1873620761\n",
      "  0.125 | 1.125          | 1.133148453067          | 0.8148453067          | 0.7190984592\n",
      "   0.25 | 1.25          | 1.284025416688          | 3.4025416688          | 2.6499021161\n",
      "    0.5 | 1.5          | 1.6487212707          | 14.87212707          | 9.0204010431\n",
      "      1 | 2.0          | 2.718281828459          | 71.8281828459          | 26.4241117657\n",
      "      2 | 3.0          | 7.389056098931          | 438.9056098931          | 59.399415029\n",
      "      4 | 5.0          | 54.598150033144          | 4959.8150033144          | 90.8421805556\n",
      "when n =2\n",
      ".................................................................................................................\n",
      "    X     Calculated          Actual              absErr(%)      relativeErr(%) \n",
      "0.03125 | 1.03173828125          | 1.031743407499          | 0.0005126249          | 0.0004968531\n",
      " 0.0625 | 1.064453125          | 1.064494458918          | 0.0041333918          | 0.0038829622\n",
      "  0.125 | 1.1328125          | 1.133148453067          | 0.0335953067          | 0.0296477541\n",
      "   0.25 | 1.28125          | 1.284025416688          | 0.2775416688          | 0.216149669\n",
      "    0.5 | 1.625          | 1.6487212707          | 2.37212707          | 1.4387677967\n",
      "      1 | 2.5          | 2.718281828459          | 21.8281828459          | 8.0301397071\n",
      "      2 | 5.0          | 7.389056098931          | 238.9056098931          | 32.3323583817\n",
      "      4 | 13.0          | 54.598150033144          | 4159.8150033144          | 76.1896694446\n",
      "when n =3\n",
      ".................................................................................................................\n",
      "    X     Calculated          Actual              absErr(%)      relativeErr(%) \n",
      "0.03125 | 1.031743367513          | 1.031743407499          | 3.9986e-06          | 3.8756e-06\n",
      " 0.0625 | 1.064493815104          | 1.064494458918          | 6.43814e-05          | 6.04807e-05\n",
      "  0.125 | 1.133138020833          | 1.133148453067          | 0.0010432233          | 0.0009206414\n",
      "   0.25 | 1.283854166667          | 1.284025416688          | 0.0171250021          | 0.0133369651\n",
      "    0.5 | 1.645833333333          | 1.6487212707          | 0.2887937367          | 0.1751622556\n",
      "      1 | 2.666666666667          | 2.718281828459          | 5.1615161792          | 1.8988156876\n",
      "      2 | 6.333333333333          | 7.389056098931          | 105.5722765597          | 14.2876539501\n",
      "      4 | 23.666666666667          | 54.598150033144          | 3093.1483366478          | 56.6529879633\n",
      "when n =4\n",
      ".................................................................................................................\n",
      "    X     Calculated          Actual              absErr(%)      relativeErr(%) \n",
      "0.03125 | 1.031743407249          | 1.031743407499          | 2.5e-08          | 2.42e-08\n",
      " 0.0625 | 1.064494450887          | 1.064494458918          | 8.031e-07          | 7.544e-07\n",
      "  0.125 | 1.133148193359          | 1.133148453067          | 2.59707e-05          | 2.29191e-05\n",
      "   0.25 | 1.284016927083          | 1.284025416688          | 0.0008489604          | 0.0006611711\n",
      "    0.5 | 1.6484375          | 1.6487212707          | 0.02837707          | 0.017211563\n",
      "      1 | 2.708333333333          | 2.718281828459          | 0.9948495126          | 0.3659846827\n",
      "      2 | 7.0          | 7.389056098931          | 38.9056098931          | 5.2653017344\n",
      "      4 | 34.333333333333          | 54.598150033144          | 2026.4816699811          | 37.116306482\n",
      "when n =8\n",
      ".................................................................................................................\n",
      "    X     Calculated          Actual              absErr(%)      relativeErr(%) \n",
      "0.03125 | 1.031743407499          | 1.031743407499          | 0.0          | 0.0\n",
      " 0.0625 | 1.064494458918          | 1.064494458918          | 0.0          | 0.0\n",
      "  0.125 | 1.133148453067          | 1.133148453067          | 0.0          | 0.0\n",
      "   0.25 | 1.284025416677          | 1.284025416688          | 1.1e-09          | 8e-10\n",
      "    0.5 | 1.648721265036          | 1.6487212707          | 5.664e-07          | 3.435e-07\n",
      "      1 | 2.718278769841          | 2.718281828459          | 0.0003058618          | 0.0001125203\n",
      "      2 | 7.387301587302          | 7.389056098931          | 0.1754511629          | 0.0237447328\n",
      "      4 | 53.431746031746          | 54.598150033144          | 116.6404001398          | 2.1363434488\n",
      "when n =16\n",
      ".................................................................................................................\n",
      "    X     Calculated          Actual              absErr(%)      relativeErr(%) \n",
      "0.03125 | 1.031743407499          | 1.031743407499          | 0.0          | 0.0\n",
      " 0.0625 | 1.064494458918          | 1.064494458918          | 0.0          | 0.0\n",
      "  0.125 | 1.133148453067          | 1.133148453067          | 0.0          | 0.0\n",
      "   0.25 | 1.284025416688          | 1.284025416688          | 0.0          | 0.0\n",
      "    0.5 | 1.6487212707          | 1.6487212707          | 0.0          | 0.0\n",
      "      1 | 2.718281828459          | 2.718281828459          | 0.0          | 0.0\n",
      "      2 | 7.389056098516          | 7.389056098931          | 4.14e-08          | 5.6e-09\n",
      "      4 | 54.598088182638          | 54.598150033144          | 0.0061850506          | 0.0001132832\n",
      "when n =32\n",
      ".................................................................................................................\n",
      "    X     Calculated          Actual              absErr(%)      relativeErr(%) \n",
      "0.03125 | 1.031743407499          | 1.031743407499          | 0.0          | 0.0\n",
      " 0.0625 | 1.064494458918          | 1.064494458918          | 0.0          | 0.0\n",
      "  0.125 | 1.133148453067          | 1.133148453067          | 0.0          | 0.0\n",
      "   0.25 | 1.284025416688          | 1.284025416688          | 0.0          | 0.0\n",
      "    0.5 | 1.6487212707          | 1.6487212707          | 0.0          | 0.0\n",
      "      1 | 2.718281828459          | 2.718281828459          | 0.0          | 0.0\n",
      "      2 | 7.389056098931          | 7.389056098931          | 0.0          | 0.0\n",
      "      4 | 54.598150033144          | 54.598150033144          | 0.0          | 0.0\n",
      "when n =64\n",
      ".................................................................................................................\n",
      "    X     Calculated          Actual              absErr(%)      relativeErr(%) \n",
      "0.03125 | 1.031743407499          | 1.031743407499          | 0.0          | 0.0\n",
      " 0.0625 | 1.064494458918          | 1.064494458918          | 0.0          | 0.0\n",
      "  0.125 | 1.133148453067          | 1.133148453067          | 0.0          | 0.0\n",
      "   0.25 | 1.284025416688          | 1.284025416688          | 0.0          | 0.0\n",
      "    0.5 | 1.6487212707          | 1.6487212707          | 0.0          | 0.0\n",
      "      1 | 2.718281828459          | 2.718281828459          | 0.0          | 0.0\n",
      "      2 | 7.389056098931          | 7.389056098931          | 0.0          | 0.0\n",
      "      4 | 54.598150033144          | 54.598150033144          | 0.0          | 0.0\n",
      "when n =128\n",
      ".................................................................................................................\n",
      "    X     Calculated          Actual              absErr(%)      relativeErr(%) \n",
      "0.03125 | 1.031743407499          | 1.031743407499          | 0.0          | 0.0\n",
      " 0.0625 | 1.064494458918          | 1.064494458918          | 0.0          | 0.0\n",
      "  0.125 | 1.133148453067          | 1.133148453067          | 0.0          | 0.0\n",
      "   0.25 | 1.284025416688          | 1.284025416688          | 0.0          | 0.0\n",
      "    0.5 | 1.6487212707          | 1.6487212707          | 0.0          | 0.0\n",
      "      1 | 2.718281828459          | 2.718281828459          | 0.0          | 0.0\n",
      "      2 | 7.389056098931          | 7.389056098931          | 0.0          | 0.0\n",
      "      4 | 54.598150033144          | 54.598150033144          | 0.0          | 0.0\n",
      "when n =256\n",
      ".................................................................................................................\n",
      "    X     Calculated          Actual              absErr(%)      relativeErr(%) \n",
      "0.03125 | 1.031743407499          | 1.031743407499          | 0.0          | 0.0\n",
      " 0.0625 | 1.064494458918          | 1.064494458918          | 0.0          | 0.0\n",
      "  0.125 | 1.133148453067          | 1.133148453067          | 0.0          | 0.0\n",
      "   0.25 | 1.284025416688          | 1.284025416688          | 0.0          | 0.0\n",
      "    0.5 | 1.6487212707          | 1.6487212707          | 0.0          | 0.0\n",
      "      1 | 2.718281828459          | 2.718281828459          | 0.0          | 0.0\n",
      "      2 | 7.389056098931          | 7.389056098931          | 0.0          | 0.0\n",
      "      4 | 54.598150033144          | 54.598150033144          | 0.0          | 0.0\n"
     ]
    }
   ],
   "source": [
    "f = exp(x)\n",
    "exp_taylor_data = calculate(f)\n",
    "exp_data=exp_actual()\n",
    "exp_abs_err, exp_relative_err = print_data(exp_taylor_data, exp_data)\n"
   ]
  },
  {
   "cell_type": "code",
   "execution_count": 327,
   "metadata": {},
   "outputs": [
    {
     "data": {
      "image/png": "[encoded data removed]",
      "text/plain": [
       "<Figure size 432x288 with 1 Axes>"
      ]
     },
     "metadata": {},
     "output_type": "display_data"
    }
   ],
   "source": [
    "\n",
    "\n",
    "plot_exp(f)"
   ]
  },
  {
   "cell_type": "code",
   "execution_count": 331,
   "metadata": {},
   "outputs": [
    {
     "ename": "SyntaxError",
     "evalue": "invalid syntax (<ipython-input-331-862cb696410c>, line 15)",
     "output_type": "error",
     "traceback": [
      "\u001b[0;36m  File \u001b[0;32m\"<ipython-input-331-862cb696410c>\"\u001b[0;36m, line \u001b[0;32m15\u001b[0m\n\u001b[0;31m    y1 = []\u001b[0m\n\u001b[0m     ^\u001b[0m\n\u001b[0;31mSyntaxError\u001b[0m\u001b[0;31m:\u001b[0m invalid syntax\n"
     ]
    }
   ],
   "source": [
    "def plot(x1):\n",
    "    x_lims = [-1,8]\n",
    "    y1=[]\n",
    "    z1=[]\n",
    "    # Approximate up until 10 starting from 1 and using steps of 2\n",
    "    for j in range(0,len(x1)):\n",
    "     \n",
    "        for k in range(0,len(x1[j])):\n",
    "            y1.append(x1[j][k])\n",
    "            z1.append(k)\n",
    "        \n",
    "        \n",
    "        plt.plot(z1,y1,label='order '+str(n(j))\n",
    "        print('here',x1[j])\n",
    "        print('n'+str(j)+':',y1)\n",
    "        y1 = []\n",
    "        z1 = []\n",
    "    # Plot the function to approximate (sine, in this case)\n",
    "    plt.xlim(x_lims)\n",
    "    plt.ylim([-1,600])\n",
    "    plt.xlabel('x')\n",
    "    plt.ylabel('y')\n",
    "    plt.legend()\n",
    "    plt.grid(True)\n",
    "    plt.title('Taylor series approximation')\n",
    "    plt.show()\n",
    "\n",
    "plot(sin_abs_err)"
   ]
  },
  {
   "cell_type": "code",
   "execution_count": null,
   "metadata": {},
   "outputs": [],
   "source": [
    "      "
   ]
  },
  {
   "cell_type": "code",
   "execution_count": null,
   "metadata": {},
   "outputs": [],
   "source": []
  },
  {
   "cell_type": "code",
   "execution_count": null,
   "metadata": {},
   "outputs": [],
   "source": [
    "f = exp(x)\n",
    "exp_taylor_data = calculate(f)\n",
    "exp_data=exp_actual()\n",
    "exp_abs_err, exp_relative_err = print_data(exp_taylor_data, exp_data)"
   ]
  },
  {
   "cell_type": "code",
   "execution_count": null,
   "metadata": {},
   "outputs": [],
   "source": []
  },
  {
   "cell_type": "code",
   "execution_count": null,
   "metadata": {},
   "outputs": [],
   "source": []
  }
 ],
 "metadata": {
  "kernelspec": {
   "display_name": "Python 3",
   "language": "python",
   "name": "python3"
  },
  "language_info": {
   "codemirror_mode": {
    "name": "ipython",
    "version": 3
   },
   "file_extension": ".py",
   "mimetype": "text/x-python",
   "name": "python",
   "nbconvert_exporter": "python",
   "pygments_lexer": "ipython3",
   "version": "3.7.1"
  }
 },
 "nbformat": 4,
 "nbformat_minor": 2
}
